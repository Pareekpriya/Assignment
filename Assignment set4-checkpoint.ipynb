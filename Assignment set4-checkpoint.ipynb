{
 "cells": [
  {
   "cell_type": "code",
   "execution_count": 1,
   "id": "460cfc48",
   "metadata": {
    "ExecuteTime": {
     "end_time": "2023-01-05T15:12:56.283178Z",
     "start_time": "2023-01-05T15:12:56.256354Z"
    }
   },
   "outputs": [],
   "source": [
    "import numpy as np\n",
    "from scipy import stats\n",
    "from scipy.stats import norm"
   ]
  },
  {
   "cell_type": "code",
   "execution_count": 2,
   "id": "8549d3c3",
   "metadata": {
    "ExecuteTime": {
     "end_time": "2023-01-05T15:16:35.792561Z",
     "start_time": "2023-01-05T15:16:35.768069Z"
    }
   },
   "outputs": [],
   "source": [
    "#Q3\n",
    "# For No investigation P(45)\n",
    "# For Investigation 1-P(45)"
   ]
  },
  {
   "cell_type": "code",
   "execution_count": 3,
   "id": "b4fb0308",
   "metadata": {
    "ExecuteTime": {
     "end_time": "2023-01-05T15:17:00.723377Z",
     "start_time": "2023-01-05T15:17:00.699184Z"
    }
   },
   "outputs": [
    {
     "data": {
      "text/plain": [
       "-1.25"
      ]
     },
     "execution_count": 3,
     "metadata": {},
     "output_type": "execute_result"
    }
   ],
   "source": [
    "# find z-scores at x=45; z=(s_mean-P_mean)/(p_SD/sqrt(n))\n",
    "z=(45-50)/(40/100**0.5)\n",
    "z"
   ]
  },
  {
   "cell_type": "code",
   "execution_count": 4,
   "id": "b2c0dfaa",
   "metadata": {
    "ExecuteTime": {
     "end_time": "2023-01-05T15:17:22.154424Z",
     "start_time": "2023-01-05T15:17:22.136856Z"
    }
   },
   "outputs": [
    {
     "data": {
      "text/plain": [
       "1.25"
      ]
     },
     "execution_count": 4,
     "metadata": {},
     "output_type": "execute_result"
    }
   ],
   "source": [
    "# find z-scores at x=55; z=(s_mean-P_mean)/(p_SD/sqrt(n))\n",
    "z=(55-50)/(40/100**0.5)\n",
    "z"
   ]
  },
  {
   "cell_type": "code",
   "execution_count": 5,
   "id": "7c8f906b",
   "metadata": {
    "ExecuteTime": {
     "end_time": "2023-01-05T15:18:02.958117Z",
     "start_time": "2023-01-05T15:18:02.942255Z"
    }
   },
   "outputs": [
    {
     "data": {
      "text/plain": [
       "0.7887004526662893"
      ]
     },
     "execution_count": 5,
     "metadata": {},
     "output_type": "execute_result"
    }
   ],
   "source": [
    "# For No investigation P(45)\n",
    "stats.norm.cdf(1.25)-stats.norm.cdf(-1.25)"
   ]
  },
  {
   "cell_type": "code",
   "execution_count": 6,
   "id": "a28d7d47",
   "metadata": {
    "ExecuteTime": {
     "end_time": "2023-01-05T15:18:57.270405Z",
     "start_time": "2023-01-05T15:18:57.255241Z"
    }
   },
   "outputs": [
    {
     "data": {
      "text/plain": [
       "(45.00000495667348, 54.99999504332652)"
      ]
     },
     "execution_count": 6,
     "metadata": {},
     "output_type": "execute_result"
    }
   ],
   "source": [
    "stats.norm.interval(0.7887,loc=50,scale=40/(100**0.5))"
   ]
  },
  {
   "cell_type": "code",
   "execution_count": 8,
   "id": "546cee37",
   "metadata": {
    "ExecuteTime": {
     "end_time": "2023-01-05T15:19:42.930502Z",
     "start_time": "2023-01-05T15:19:42.906391Z"
    }
   },
   "outputs": [
    {
     "data": {
      "text/plain": [
       "0.21130000000000004"
      ]
     },
     "execution_count": 8,
     "metadata": {},
     "output_type": "execute_result"
    }
   ],
   "source": [
    "# For Investigation 1-P(45)\n",
    "1-0.7887"
   ]
  }
 ],
 "metadata": {
  "kernelspec": {
   "display_name": "Python 3 (ipykernel)",
   "language": "python",
   "name": "python3"
  },
  "language_info": {
   "codemirror_mode": {
    "name": "ipython",
    "version": 3
   },
   "file_extension": ".py",
   "mimetype": "text/x-python",
   "name": "python",
   "nbconvert_exporter": "python",
   "pygments_lexer": "ipython3",
   "version": "3.9.13"
  }
 },
 "nbformat": 4,
 "nbformat_minor": 5
}
