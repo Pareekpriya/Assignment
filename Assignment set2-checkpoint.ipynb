{
 "cells": [
  {
   "cell_type": "code",
   "execution_count": 1,
   "id": "c24cc63b",
   "metadata": {
    "ExecuteTime": {
     "end_time": "2023-01-04T03:04:31.516469Z",
     "start_time": "2023-01-04T03:04:28.701360Z"
    }
   },
   "outputs": [],
   "source": [
    "import numpy as np\n",
    "from scipy import stats\n",
    "from scipy.stats import norm"
   ]
  },
  {
   "cell_type": "code",
   "execution_count": 2,
   "id": "17ec4158",
   "metadata": {
    "ExecuteTime": {
     "end_time": "2023-01-04T03:04:31.556809Z",
     "start_time": "2023-01-04T03:04:31.524611Z"
    }
   },
   "outputs": [
    {
     "data": {
      "text/plain": [
       "0.625"
      ]
     },
     "execution_count": 2,
     "metadata": {},
     "output_type": "execute_result"
    }
   ],
   "source": [
    "#Q1\n",
    "# Find Z-Scores at X=50; Z = (X - µ) / σ \n",
    "Z=(50-45)/8\n",
    "Z"
   ]
  },
  {
   "cell_type": "code",
   "execution_count": 3,
   "id": "8ad69f84",
   "metadata": {
    "ExecuteTime": {
     "end_time": "2023-01-04T03:04:31.577863Z",
     "start_time": "2023-01-04T03:04:31.561041Z"
    }
   },
   "outputs": [
    {
     "data": {
      "text/plain": [
       "0.26598552904870054"
      ]
     },
     "execution_count": 3,
     "metadata": {},
     "output_type": "execute_result"
    }
   ],
   "source": [
    "# Find probability P(X>50) = 1-stats.norm.cdf(abs(z_score))\n",
    "1-stats.norm.cdf(abs(0.625))"
   ]
  },
  {
   "cell_type": "code",
   "execution_count": 4,
   "id": "666bcea1",
   "metadata": {
    "ExecuteTime": {
     "end_time": "2023-01-04T03:04:31.609615Z",
     "start_time": "2023-01-04T03:04:31.577863Z"
    }
   },
   "outputs": [
    {
     "data": {
      "text/plain": [
       "0.7340144709512995"
      ]
     },
     "execution_count": 4,
     "metadata": {},
     "output_type": "execute_result"
    }
   ],
   "source": [
    "# Find probability P(X<=50); p_value=stats.norm.cdf(abs(z_score))  \n",
    "p_value=stats.norm.cdf(abs(0.625)) \n",
    "p_value"
   ]
  },
  {
   "cell_type": "code",
   "execution_count": 5,
   "id": "e7df644a",
   "metadata": {
    "ExecuteTime": {
     "end_time": "2023-01-04T03:04:31.641602Z",
     "start_time": "2023-01-04T03:04:31.612870Z"
    }
   },
   "outputs": [
    {
     "data": {
      "text/plain": [
       "0.266"
      ]
     },
     "execution_count": 5,
     "metadata": {},
     "output_type": "execute_result"
    }
   ],
   "source": [
    "# P(X>50) = 1 - P(X<=50)\n",
    "1-0.734"
   ]
  },
  {
   "cell_type": "code",
   "execution_count": 6,
   "id": "fa9dd4e6",
   "metadata": {
    "ExecuteTime": {
     "end_time": "2023-01-04T03:04:31.665529Z",
     "start_time": "2023-01-04T03:04:31.644777Z"
    }
   },
   "outputs": [
    {
     "data": {
      "text/plain": [
       "1.0"
      ]
     },
     "execution_count": 6,
     "metadata": {},
     "output_type": "execute_result"
    }
   ],
   "source": [
    "#Q2\n",
    "# For x>44, Z_score is Z = (X - µ) / σ\n",
    "z=(44-38)/6\n",
    "z"
   ]
  },
  {
   "cell_type": "code",
   "execution_count": 7,
   "id": "a7ea7408",
   "metadata": {
    "ExecuteTime": {
     "end_time": "2023-01-04T03:04:31.692364Z",
     "start_time": "2023-01-04T03:04:31.667709Z"
    }
   },
   "outputs": [
    {
     "data": {
      "text/plain": [
       "0.15865525393145707"
      ]
     },
     "execution_count": 7,
     "metadata": {},
     "output_type": "execute_result"
    }
   ],
   "source": [
    "# Employees older than 44 years of age ,p(x>44)\n",
    "1-stats.norm.cdf(abs(z))"
   ]
  },
  {
   "cell_type": "code",
   "execution_count": 8,
   "id": "d0ece1c4",
   "metadata": {
    "ExecuteTime": {
     "end_time": "2023-01-04T03:04:31.723965Z",
     "start_time": "2023-01-04T03:04:31.696611Z"
    }
   },
   "outputs": [
    {
     "data": {
      "text/plain": [
       "0.3413447460685429"
      ]
     },
     "execution_count": 8,
     "metadata": {},
     "output_type": "execute_result"
    }
   ],
   "source": [
    "# Employees between 38 and 44 years of age using formula stats.norm.cdf(44, loc=38, scale=6)\n",
    "\n",
    "stats.norm.cdf(44, 38,6)-stats.norm.cdf(38,38,6)"
   ]
  },
  {
   "cell_type": "code",
   "execution_count": 9,
   "id": "a26e3dde",
   "metadata": {
    "ExecuteTime": {
     "end_time": "2023-01-04T03:04:31.745011Z",
     "start_time": "2023-01-04T03:04:31.730913Z"
    }
   },
   "outputs": [],
   "source": [
    "###  A.\tMore employees at the processing center are older than 44 than between 38 and 44. is False as value calculated in\n",
    "###  line 9 and line 10 shows that employees between 38 and 44 years of age is more."
   ]
  },
  {
   "cell_type": "code",
   "execution_count": 10,
   "id": "f55c9f7b",
   "metadata": {
    "ExecuteTime": {
     "end_time": "2023-01-04T03:04:31.776846Z",
     "start_time": "2023-01-04T03:04:31.753123Z"
    }
   },
   "outputs": [
    {
     "data": {
      "text/plain": [
       "0.09121121972586788"
      ]
     },
     "execution_count": 10,
     "metadata": {},
     "output_type": "execute_result"
    }
   ],
   "source": [
    "# Employees under than age of 30 years, P(x<30)\n",
    "stats.norm.cdf(30, 38,6)"
   ]
  },
  {
   "cell_type": "code",
   "execution_count": 11,
   "id": "dc0bb55f",
   "metadata": {
    "ExecuteTime": {
     "end_time": "2023-01-04T03:04:31.808705Z",
     "start_time": "2023-01-04T03:04:31.782775Z"
    }
   },
   "outputs": [
    {
     "data": {
      "text/plain": [
       "36.484487890347154"
      ]
     },
     "execution_count": 11,
     "metadata": {},
     "output_type": "execute_result"
    }
   ],
   "source": [
    "# Number of employees attending training under the age of 30 years\n",
    "400 * stats.norm.cdf(30,38,6)"
   ]
  },
  {
   "cell_type": "code",
   "execution_count": 12,
   "id": "1985d3cf",
   "metadata": {
    "ExecuteTime": {
     "end_time": "2023-01-04T03:04:31.824802Z",
     "start_time": "2023-01-04T03:04:31.812417Z"
    }
   },
   "outputs": [],
   "source": [
    "### B.\tA training program for employees under the age of 30 at the center would be expected to attract about 36 employees.\n",
    "### The above statement is true as per the calculation in line number 9 and output 9 is 36.48."
   ]
  },
  {
   "cell_type": "code",
   "execution_count": 13,
   "id": "819f57a6",
   "metadata": {
    "ExecuteTime": {
     "end_time": "2023-01-04T03:04:31.859639Z",
     "start_time": "2023-01-04T03:04:31.830754Z"
    }
   },
   "outputs": [
    {
     "data": {
      "text/plain": [
       "(48.48341392902199, 151.516586070978)"
      ]
     },
     "execution_count": 13,
     "metadata": {},
     "output_type": "execute_result"
    }
   ],
   "source": [
    "#Q4\n",
    "stats.norm.interval(0.99,100,20)"
   ]
  },
  {
   "cell_type": "code",
   "execution_count": 14,
   "id": "9fc648ba",
   "metadata": {
    "ExecuteTime": {
     "end_time": "2023-01-04T03:05:46.653676Z",
     "start_time": "2023-01-04T03:05:46.634952Z"
    },
    "scrolled": true
   },
   "outputs": [
    {
     "name": "stdout",
     "output_type": "stream",
     "text": [
      "Mean Profit is Rs 540 Million\n"
     ]
    }
   ],
   "source": [
    "#Q5\n",
    "# Mean profits from two different divisions of a company = Mean1 + Mean2\n",
    "Mean = 5+7\n",
    "print('Mean Profit is Rs', Mean*45,'Million')"
   ]
  },
  {
   "cell_type": "code",
   "execution_count": 15,
   "id": "19670f2e",
   "metadata": {
    "ExecuteTime": {
     "end_time": "2023-01-04T03:07:30.226189Z",
     "start_time": "2023-01-04T03:07:30.201787Z"
    }
   },
   "outputs": [
    {
     "name": "stdout",
     "output_type": "stream",
     "text": [
      "Standard Deviation is Rs 315 Million\n"
     ]
    }
   ],
   "source": [
    "# Variance of profits from two different divisions of a company = SD^2 = SD1^2 + SD2^2\n",
    "SD = (3^2)+(4^2)\n",
    "print('Standard Deviation is Rs', SD*45, 'Million')"
   ]
  },
  {
   "cell_type": "code",
   "execution_count": 16,
   "id": "e9aff9c2",
   "metadata": {
    "ExecuteTime": {
     "end_time": "2023-01-04T03:07:57.013804Z",
     "start_time": "2023-01-04T03:07:56.989819Z"
    }
   },
   "outputs": [
    {
     "name": "stdout",
     "output_type": "stream",
     "text": [
      "Range is Rs (-77.38865513011706, 1157.388655130117) in Millions\n"
     ]
    }
   ],
   "source": [
    "# A. Specify a Rupee range (centered on the mean) such that it contains 95% probability for the annual profit of the company.\n",
    "print('Range is Rs',(stats.norm.interval(0.95,540,315)),'in Millions')"
   ]
  },
  {
   "cell_type": "code",
   "execution_count": 17,
   "id": "461288ce",
   "metadata": {
    "ExecuteTime": {
     "end_time": "2023-01-04T03:10:47.711944Z",
     "start_time": "2023-01-04T03:10:47.687614Z"
    }
   },
   "outputs": [
    {
     "name": "stdout",
     "output_type": "stream",
     "text": [
      "5th percentile of profit (in Million Rupees) is 23.4\n"
     ]
    }
   ],
   "source": [
    "# B. Specify the 5th percentile of profit (in Rupees) for the company\n",
    "# To compute 5th Percentile, we use the formula X=μ + Zσ; wherein from z table, 5 percentile = -1.64\n",
    "X= 540+(-1.64)*(315)\n",
    "print('5th percentile of profit (in Million Rupees) is',np.round(X,2))"
   ]
  },
  {
   "cell_type": "code",
   "execution_count": 18,
   "id": "5c70cfab",
   "metadata": {
    "ExecuteTime": {
     "end_time": "2023-01-04T03:16:11.134648Z",
     "start_time": "2023-01-04T03:16:11.120808Z"
    }
   },
   "outputs": [],
   "source": [
    "# C. Which of the two divisions has a larger probability of making a loss in a given year?"
   ]
  },
  {
   "cell_type": "code",
   "execution_count": 19,
   "id": "4ab38520",
   "metadata": {
    "ExecuteTime": {
     "end_time": "2023-01-04T03:16:28.215613Z",
     "start_time": "2023-01-04T03:16:28.200253Z"
    }
   },
   "outputs": [
    {
     "data": {
      "text/plain": [
       "0.0477903522728147"
      ]
     },
     "execution_count": 19,
     "metadata": {},
     "output_type": "execute_result"
    }
   ],
   "source": [
    "# Probability of Division 1 making a loss P(X<0)\n",
    "stats.norm.cdf(0,5,3)"
   ]
  },
  {
   "cell_type": "code",
   "execution_count": 20,
   "id": "aa6c2953",
   "metadata": {
    "ExecuteTime": {
     "end_time": "2023-01-04T03:16:41.996174Z",
     "start_time": "2023-01-04T03:16:41.972320Z"
    }
   },
   "outputs": [
    {
     "data": {
      "text/plain": [
       "0.040059156863817086"
      ]
     },
     "execution_count": 20,
     "metadata": {},
     "output_type": "execute_result"
    }
   ],
   "source": [
    "# Probability of Division 2 making a loss P(X<0)\n",
    "stats.norm.cdf(0,7,4)"
   ]
  }
 ],
 "metadata": {
  "kernelspec": {
   "display_name": "Python 3 (ipykernel)",
   "language": "python",
   "name": "python3"
  },
  "language_info": {
   "codemirror_mode": {
    "name": "ipython",
    "version": 3
   },
   "file_extension": ".py",
   "mimetype": "text/x-python",
   "name": "python",
   "nbconvert_exporter": "python",
   "pygments_lexer": "ipython3",
   "version": "3.9.13"
  }
 },
 "nbformat": 4,
 "nbformat_minor": 5
}
