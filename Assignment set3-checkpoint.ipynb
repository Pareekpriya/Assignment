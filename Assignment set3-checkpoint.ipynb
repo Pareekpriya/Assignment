{
 "cells": [
  {
   "cell_type": "code",
   "execution_count": 1,
   "id": "e43b84a1",
   "metadata": {
    "ExecuteTime": {
     "end_time": "2023-01-05T12:16:23.228624Z",
     "start_time": "2023-01-05T12:16:23.202876Z"
    }
   },
   "outputs": [],
   "source": [
    "import numpy as np\n",
    "from scipy import stats\n",
    "from scipy.stats import norm"
   ]
  },
  {
   "cell_type": "code",
   "execution_count": 2,
   "id": "3960f0ac",
   "metadata": {
    "ExecuteTime": {
     "end_time": "2023-01-05T12:16:38.887503Z",
     "start_time": "2023-01-05T12:16:38.877103Z"
    }
   },
   "outputs": [],
   "source": [
    "#Q5\n",
    "# Apply One-Sample One-Tail z-test"
   ]
  },
  {
   "cell_type": "code",
   "execution_count": 3,
   "id": "97aca566",
   "metadata": {
    "ExecuteTime": {
     "end_time": "2023-01-05T12:17:25.672209Z",
     "start_time": "2023-01-05T12:17:25.649341Z"
    }
   },
   "outputs": [
    {
     "data": {
      "text/plain": [
       "-0.820782681668124"
      ]
     },
     "execution_count": 3,
     "metadata": {},
     "output_type": "execute_result"
    }
   ],
   "source": [
    "z_scores=(0.046-0.05)/(np.sqrt((0.05*(1-0.05))/2000))\n",
    "z_scores"
   ]
  },
  {
   "cell_type": "code",
   "execution_count": 4,
   "id": "95050372",
   "metadata": {
    "ExecuteTime": {
     "end_time": "2023-01-05T12:17:57.737801Z",
     "start_time": "2023-01-05T12:17:57.732800Z"
    }
   },
   "outputs": [],
   "source": [
    "# Finding Probability"
   ]
  },
  {
   "cell_type": "code",
   "execution_count": 5,
   "id": "edb86dff",
   "metadata": {
    "ExecuteTime": {
     "end_time": "2023-01-05T12:18:13.751505Z",
     "start_time": "2023-01-05T12:18:13.726254Z"
    }
   },
   "outputs": [
    {
     "data": {
      "text/plain": [
       "0.20588503245107104"
      ]
     },
     "execution_count": 5,
     "metadata": {},
     "output_type": "execute_result"
    }
   ],
   "source": [
    "p_value=1-stats.norm.cdf(abs(z_scores))\n",
    "p_value"
   ]
  },
  {
   "cell_type": "code",
   "execution_count": 6,
   "id": "a1e22db1",
   "metadata": {
    "ExecuteTime": {
     "end_time": "2023-01-05T12:20:14.316053Z",
     "start_time": "2023-01-05T12:20:14.303701Z"
    }
   },
   "outputs": [],
   "source": [
    "#here probability value> significance level then we accept the null hypothesis."
   ]
  }
 ],
 "metadata": {
  "kernelspec": {
   "display_name": "Python 3 (ipykernel)",
   "language": "python",
   "name": "python3"
  },
  "language_info": {
   "codemirror_mode": {
    "name": "ipython",
    "version": 3
   },
   "file_extension": ".py",
   "mimetype": "text/x-python",
   "name": "python",
   "nbconvert_exporter": "python",
   "pygments_lexer": "ipython3",
   "version": "3.9.13"
  }
 },
 "nbformat": 4,
 "nbformat_minor": 5
}
